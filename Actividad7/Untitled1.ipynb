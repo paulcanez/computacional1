{
 "cells": [
  {
   "cell_type": "code",
   "execution_count": 1,
   "metadata": {
    "collapsed": true
   },
   "outputs": [],
   "source": [
    "import pandas as pd\n",
    "import numpy as np\n",
    "import matplotlib as plt\n",
    "import statsmodels.api as sm\n",
    "import scipy.stats as stats\n",
    "from pylab import *\n",
    "from scipy.io import loadmat"
   ]
  },
  {
   "cell_type": "code",
   "execution_count": 2,
   "metadata": {
    "collapsed": false
   },
   "outputs": [],
   "source": [
    "df=pd.read_csv(\"Noaa61.csv\", parse_dates=['Date Time'] , header=int(0))"
   ]
  },
  {
   "cell_type": "code",
   "execution_count": 3,
   "metadata": {
    "collapsed": false
   },
   "outputs": [
    {
     "data": {
      "text/html": [
       "<div>\n",
       "<table border=\"1\" class=\"dataframe\">\n",
       "  <thead>\n",
       "    <tr style=\"text-align: right;\">\n",
       "      <th></th>\n",
       "      <th>Date Time</th>\n",
       "      <th>Water Level</th>\n",
       "      <th>Sigma</th>\n",
       "      <th>I</th>\n",
       "      <th>L</th>\n",
       "    </tr>\n",
       "  </thead>\n",
       "  <tbody>\n",
       "    <tr>\n",
       "      <th>0</th>\n",
       "      <td>2016-03-09 00:00:00</td>\n",
       "      <td>0.377</td>\n",
       "      <td>0.030</td>\n",
       "      <td>0</td>\n",
       "      <td>0</td>\n",
       "    </tr>\n",
       "    <tr>\n",
       "      <th>1</th>\n",
       "      <td>2016-03-09 01:00:00</td>\n",
       "      <td>0.433</td>\n",
       "      <td>0.038</td>\n",
       "      <td>0</td>\n",
       "      <td>0</td>\n",
       "    </tr>\n",
       "    <tr>\n",
       "      <th>2</th>\n",
       "      <td>2016-03-09 02:00:00</td>\n",
       "      <td>0.453</td>\n",
       "      <td>0.049</td>\n",
       "      <td>0</td>\n",
       "      <td>0</td>\n",
       "    </tr>\n",
       "    <tr>\n",
       "      <th>3</th>\n",
       "      <td>2016-03-09 03:00:00</td>\n",
       "      <td>0.435</td>\n",
       "      <td>0.028</td>\n",
       "      <td>0</td>\n",
       "      <td>0</td>\n",
       "    </tr>\n",
       "    <tr>\n",
       "      <th>4</th>\n",
       "      <td>2016-03-09 04:00:00</td>\n",
       "      <td>0.348</td>\n",
       "      <td>0.046</td>\n",
       "      <td>0</td>\n",
       "      <td>0</td>\n",
       "    </tr>\n",
       "  </tbody>\n",
       "</table>\n",
       "</div>"
      ],
      "text/plain": [
       "            Date Time   Water Level   Sigma   I   L \n",
       "0 2016-03-09 00:00:00         0.377   0.030   0    0\n",
       "1 2016-03-09 01:00:00         0.433   0.038   0    0\n",
       "2 2016-03-09 02:00:00         0.453   0.049   0    0\n",
       "3 2016-03-09 03:00:00         0.435   0.028   0    0\n",
       "4 2016-03-09 04:00:00         0.348   0.046   0    0"
      ]
     },
     "execution_count": 3,
     "metadata": {},
     "output_type": "execute_result"
    }
   ],
   "source": [
    "df.head()"
   ]
  },
  {
   "cell_type": "code",
   "execution_count": 4,
   "metadata": {
    "collapsed": false
   },
   "outputs": [
    {
     "data": {
      "text/plain": [
       "Date Time       0\n",
       " Water Level    0\n",
       " Sigma          0\n",
       " I              0\n",
       " L              0\n",
       "dtype: int64"
      ]
     },
     "execution_count": 4,
     "metadata": {},
     "output_type": "execute_result"
    }
   ],
   "source": [
    "df.apply(lambda x: sum(x.isnull()),axis=0)"
   ]
  },
  {
   "cell_type": "code",
   "execution_count": 5,
   "metadata": {
    "collapsed": false
   },
   "outputs": [
    {
     "data": {
      "text/plain": [
       "Index(['Date Time', ' Water Level', ' Sigma', ' I', ' L '], dtype='object')"
      ]
     },
     "execution_count": 5,
     "metadata": {},
     "output_type": "execute_result"
    }
   ],
   "source": [
    "df.columns"
   ]
  },
  {
   "cell_type": "code",
   "execution_count": 6,
   "metadata": {
    "collapsed": false
   },
   "outputs": [
    {
     "data": {
      "text/html": [
       "<div>\n",
       "<table border=\"1\" class=\"dataframe\">\n",
       "  <thead>\n",
       "    <tr style=\"text-align: right;\">\n",
       "      <th></th>\n",
       "      <th>Date Time</th>\n",
       "      <th>Water Level</th>\n",
       "      <th>Sigma</th>\n",
       "      <th>I</th>\n",
       "      <th>L</th>\n",
       "    </tr>\n",
       "  </thead>\n",
       "  <tbody>\n",
       "    <tr>\n",
       "      <th>763</th>\n",
       "      <td>2016-04-09 19:00:00</td>\n",
       "      <td>0.088</td>\n",
       "      <td>0.009</td>\n",
       "      <td>0</td>\n",
       "      <td>0</td>\n",
       "    </tr>\n",
       "    <tr>\n",
       "      <th>764</th>\n",
       "      <td>2016-04-09 20:00:00</td>\n",
       "      <td>0.004</td>\n",
       "      <td>0.008</td>\n",
       "      <td>0</td>\n",
       "      <td>0</td>\n",
       "    </tr>\n",
       "    <tr>\n",
       "      <th>765</th>\n",
       "      <td>2016-04-09 21:00:00</td>\n",
       "      <td>0.002</td>\n",
       "      <td>0.012</td>\n",
       "      <td>0</td>\n",
       "      <td>0</td>\n",
       "    </tr>\n",
       "    <tr>\n",
       "      <th>766</th>\n",
       "      <td>2016-04-09 22:00:00</td>\n",
       "      <td>0.050</td>\n",
       "      <td>0.010</td>\n",
       "      <td>0</td>\n",
       "      <td>0</td>\n",
       "    </tr>\n",
       "    <tr>\n",
       "      <th>767</th>\n",
       "      <td>2016-04-09 23:00:00</td>\n",
       "      <td>0.153</td>\n",
       "      <td>0.006</td>\n",
       "      <td>0</td>\n",
       "      <td>0</td>\n",
       "    </tr>\n",
       "  </tbody>\n",
       "</table>\n",
       "</div>"
      ],
      "text/plain": [
       "              Date Time   Water Level   Sigma   I   L \n",
       "763 2016-04-09 19:00:00         0.088   0.009   0    0\n",
       "764 2016-04-09 20:00:00         0.004   0.008   0    0\n",
       "765 2016-04-09 21:00:00         0.002   0.012   0    0\n",
       "766 2016-04-09 22:00:00         0.050   0.010   0    0\n",
       "767 2016-04-09 23:00:00         0.153   0.006   0    0"
      ]
     },
     "execution_count": 6,
     "metadata": {},
     "output_type": "execute_result"
    }
   ],
   "source": [
    "df.tail()"
   ]
  },
  {
   "cell_type": "code",
   "execution_count": 7,
   "metadata": {
    "collapsed": false
   },
   "outputs": [],
   "source": [
    "\n",
    "from datetime import datetime"
   ]
  },
  {
   "cell_type": "code",
   "execution_count": 8,
   "metadata": {
    "collapsed": false
   },
   "outputs": [
    {
     "data": {
      "text/plain": [
       "Date Time       datetime64[ns]\n",
       " Water Level           float64\n",
       " Sigma                 float64\n",
       " I                       int64\n",
       " L                       int64\n",
       "dtype: object"
      ]
     },
     "execution_count": 8,
     "metadata": {},
     "output_type": "execute_result"
    }
   ],
   "source": [
    "df.dtypes"
   ]
  },
  {
   "cell_type": "code",
   "execution_count": 9,
   "metadata": {
    "collapsed": false
   },
   "outputs": [
    {
     "name": "stderr",
     "output_type": "stream",
     "text": [
      "/opt/anaconda/anaconda3/lib/python3.5/site-packages/ipykernel/__main__.py:11: VisibleDeprecationWarning: using a non-integer number instead of an integer will result in an error in the future\n"
     ]
    },
    {
     "data": {
      "image/png": "[encoded data removed]",
      "text/plain": [
       "<matplotlib.figure.Figure at 0x7fa787926668>"
      ]
     },
     "metadata": {},
     "output_type": "display_data"
    }
   ],
   "source": [
    ">>> from scipy.fftpack import fft\n",
    ">>> # Number of sample points\n",
    ">>> N = 768\n",
    ">>> # sample spacing\n",
    ">>> T = 1\n",
    ">>> x = df['Date Time']\n",
    ">>> y = df[' Water Level']\n",
    ">>> yf = fft(y)\n",
    ">>> xf = np.linspace(0.0, 1.0/(2.0*T), N/2)\n",
    ">>> import matplotlib.pyplot as plt\n",
    ">>> plt.plot(xf, 2.0/N * np.abs(yf[0:N/2]))\n",
    "plt.xlim(-0,.1)\n",
    "plt.ylim(0,0.25)\n",
    ">>> plt.grid()\n",
    "plt.title(u'Mareas en Nawiliwili, Hawai. Enero 2016')  # Colocamos el título del gráfico\n",
    "plt.xlabel('Frecuencia (1/hr)')  # Colocamos la etiqueta en el eje x\n",
    "plt.ylabel('Amplitud (m)')  # Colocamos la etiqueta en el eje y\n",
    ">>> plt.show()"
   ]
  },
  {
   "cell_type": "code",
   "execution_count": 10,
   "metadata": {
    "collapsed": false
   },
   "outputs": [
    {
     "name": "stderr",
     "output_type": "stream",
     "text": [
      "/opt/anaconda/anaconda3/lib/python3.5/site-packages/ipykernel/__main__.py:11: VisibleDeprecationWarning: using a non-integer number instead of an integer will result in an error in the future\n"
     ]
    },
    {
     "data": {
      "image/png": "[encoded data removed]",
      "text/plain": [
       "<matplotlib.figure.Figure at 0x7fa787926438>"
      ]
     },
     "metadata": {},
     "output_type": "display_data"
    }
   ],
   "source": [
    ">>> from scipy.fftpack import fft\n",
    ">>> # Number of sample points\n",
    ">>> N = 768\n",
    ">>> # sample spacing\n",
    ">>> T = 1\n",
    ">>> x = df['Date Time']\n",
    ">>> y = df[' Water Level']\n",
    ">>> yf = fft(y)\n",
    ">>> xf = np.linspace(0.0, 1.0/(2.0*T), N/2)\n",
    ">>> import matplotlib.pyplot as plt\n",
    ">>> plt.plot(xf, 2.0/N * np.abs(yf[0:N/2]))\n",
    "plt.xlim(0,.1)\n",
    "plt.ylim(0,0.25)\n",
    ">>> plt.grid()\n",
    "plt.title(u'Mareas Nawiliwili, Hawai. Enero 2016')  # Colocamos el título del gráfico\n",
    "plt.xlabel('Frecuencia (1/hr)')  # Colocamos la etiqueta en el eje x\n",
    "plt.ylabel('Amplitud (m)')  # Colocamos la etiqueta en el eje y\n",
    "plt.text(0.0365, 0.07, 'O$_1$')\n",
    "plt.text(0.0410, 0.09, 'K$_1$')\n",
    "plt.text(0.0750, 0.03, 'N$_2$')\n",
    "plt.text(0.08, 0.18, 'M$_2$')\n",
    "plt.text(0.082, 0.085, 'K$_1$')\n",
    "\n",
    ">>> plt.show()"
   ]
  },
  {
   "cell_type": "code",
   "execution_count": null,
   "metadata": {
    "collapsed": true
   },
   "outputs": [],
   "source": []
  }
 ],
 "metadata": {
  "anaconda-cloud": {},
  "kernelspec": {
   "display_name": "Python [default]",
   "language": "python",
   "name": "python3"
  },
  "language_info": {
   "codemirror_mode": {
    "name": "ipython",
    "version": 3
   },
   "file_extension": ".py",
   "mimetype": "text/x-python",
   "name": "python",
   "nbconvert_exporter": "python",
   "pygments_lexer": "ipython3",
   "version": "3.5.2"
  }
 },
 "nbformat": 4,
 "nbformat_minor": 1
}

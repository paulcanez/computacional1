{
 "cells": [
  {
   "cell_type": "code",
   "execution_count": null,
   "metadata": {
    "collapsed": true
   },
   "outputs": [],
   "source": [
    "import pandas as pd\n",
    "import numpy as np\n",
    "import matplotlib as plt\n",
    "import statsmodels.api as sm\n",
    "import scipy.stats as stats\n",
    "from pylab import *\n",
    "from scipy.io import loadmat"
   ]
  },
  {
   "cell_type": "code",
   "execution_count": null,
   "metadata": {
    "collapsed": false
   },
   "outputs": [],
   "source": [
    "df=pd.read_csv(\"Nasa1.csv\" , header=int(0))"
   ]
  },
  {
   "cell_type": "code",
   "execution_count": 3,
   "metadata": {
    "collapsed": false
   },
   "outputs": [
    {
     "data": {
      "text/html": [
       "<div>\n",
       "<table border=\"1\" class=\"dataframe\">\n",
       "  <thead>\n",
       "    <tr style=\"text-align: right;\">\n",
       "      <th></th>\n",
       "      <th>1</th>\n",
       "      <th>2</th>\n",
       "      <th>3</th>\n",
       "      <th>4</th>\n",
       "      <th>5</th>\n",
       "      <th>6</th>\n",
       "      <th>Unnamed: 6</th>\n",
       "    </tr>\n",
       "  </thead>\n",
       "  <tbody>\n",
       "    <tr>\n",
       "      <th>0</th>\n",
       "      <td>1749</td>\n",
       "      <td>1</td>\n",
       "      <td>1749.042</td>\n",
       "      <td>96.7</td>\n",
       "      <td>-1.0</td>\n",
       "      <td>-1</td>\n",
       "      <td>NaN</td>\n",
       "    </tr>\n",
       "    <tr>\n",
       "      <th>1</th>\n",
       "      <td>1749</td>\n",
       "      <td>2</td>\n",
       "      <td>1749.123</td>\n",
       "      <td>104.3</td>\n",
       "      <td>-1.0</td>\n",
       "      <td>-1</td>\n",
       "      <td>NaN</td>\n",
       "    </tr>\n",
       "    <tr>\n",
       "      <th>2</th>\n",
       "      <td>1749</td>\n",
       "      <td>3</td>\n",
       "      <td>1749.204</td>\n",
       "      <td>116.7</td>\n",
       "      <td>-1.0</td>\n",
       "      <td>-1</td>\n",
       "      <td>NaN</td>\n",
       "    </tr>\n",
       "    <tr>\n",
       "      <th>3</th>\n",
       "      <td>1749</td>\n",
       "      <td>4</td>\n",
       "      <td>1749.288</td>\n",
       "      <td>92.8</td>\n",
       "      <td>-1.0</td>\n",
       "      <td>-1</td>\n",
       "      <td>NaN</td>\n",
       "    </tr>\n",
       "    <tr>\n",
       "      <th>4</th>\n",
       "      <td>1749</td>\n",
       "      <td>5</td>\n",
       "      <td>1749.371</td>\n",
       "      <td>141.7</td>\n",
       "      <td>-1.0</td>\n",
       "      <td>-1</td>\n",
       "      <td>NaN</td>\n",
       "    </tr>\n",
       "  </tbody>\n",
       "</table>\n",
       "</div>"
      ],
      "text/plain": [
       "      1  2         3      4    5  6 Unnamed: 6\n",
       "0  1749  1  1749.042   96.7 -1.0 -1        NaN\n",
       "1  1749  2  1749.123  104.3 -1.0 -1        NaN\n",
       "2  1749  3  1749.204  116.7 -1.0 -1        NaN\n",
       "3  1749  4  1749.288   92.8 -1.0 -1        NaN\n",
       "4  1749  5  1749.371  141.7 -1.0 -1        NaN"
      ]
     },
     "execution_count": 3,
     "metadata": {},
     "output_type": "execute_result"
    }
   ],
   "source": [
    "df.head()"
   ]
  },
  {
   "cell_type": "code",
   "execution_count": 4,
   "metadata": {
    "collapsed": false
   },
   "outputs": [],
   "source": [
    "df.columns=['Anio', 'Mes', 'Anio-Mes','Promedio', 'k1', 'k2', 'La nada']"
   ]
  },
  {
   "cell_type": "code",
   "execution_count": 5,
   "metadata": {
    "collapsed": false
   },
   "outputs": [
    {
     "data": {
      "text/html": [
       "<div>\n",
       "<table border=\"1\" class=\"dataframe\">\n",
       "  <thead>\n",
       "    <tr style=\"text-align: right;\">\n",
       "      <th></th>\n",
       "      <th>Anio</th>\n",
       "      <th>Mes</th>\n",
       "      <th>Anio-Mes</th>\n",
       "      <th>Promedio</th>\n",
       "      <th>k1</th>\n",
       "      <th>k2</th>\n",
       "      <th>La nada</th>\n",
       "    </tr>\n",
       "  </thead>\n",
       "  <tbody>\n",
       "    <tr>\n",
       "      <th>0</th>\n",
       "      <td>1749</td>\n",
       "      <td>1</td>\n",
       "      <td>1749.042</td>\n",
       "      <td>96.7</td>\n",
       "      <td>-1.0</td>\n",
       "      <td>-1</td>\n",
       "      <td>NaN</td>\n",
       "    </tr>\n",
       "    <tr>\n",
       "      <th>1</th>\n",
       "      <td>1749</td>\n",
       "      <td>2</td>\n",
       "      <td>1749.123</td>\n",
       "      <td>104.3</td>\n",
       "      <td>-1.0</td>\n",
       "      <td>-1</td>\n",
       "      <td>NaN</td>\n",
       "    </tr>\n",
       "    <tr>\n",
       "      <th>2</th>\n",
       "      <td>1749</td>\n",
       "      <td>3</td>\n",
       "      <td>1749.204</td>\n",
       "      <td>116.7</td>\n",
       "      <td>-1.0</td>\n",
       "      <td>-1</td>\n",
       "      <td>NaN</td>\n",
       "    </tr>\n",
       "    <tr>\n",
       "      <th>3</th>\n",
       "      <td>1749</td>\n",
       "      <td>4</td>\n",
       "      <td>1749.288</td>\n",
       "      <td>92.8</td>\n",
       "      <td>-1.0</td>\n",
       "      <td>-1</td>\n",
       "      <td>NaN</td>\n",
       "    </tr>\n",
       "    <tr>\n",
       "      <th>4</th>\n",
       "      <td>1749</td>\n",
       "      <td>5</td>\n",
       "      <td>1749.371</td>\n",
       "      <td>141.7</td>\n",
       "      <td>-1.0</td>\n",
       "      <td>-1</td>\n",
       "      <td>NaN</td>\n",
       "    </tr>\n",
       "  </tbody>\n",
       "</table>\n",
       "</div>"
      ],
      "text/plain": [
       "   Anio  Mes  Anio-Mes  Promedio   k1  k2 La nada\n",
       "0  1749    1  1749.042      96.7 -1.0  -1     NaN\n",
       "1  1749    2  1749.123     104.3 -1.0  -1     NaN\n",
       "2  1749    3  1749.204     116.7 -1.0  -1     NaN\n",
       "3  1749    4  1749.288      92.8 -1.0  -1     NaN\n",
       "4  1749    5  1749.371     141.7 -1.0  -1     NaN"
      ]
     },
     "execution_count": 5,
     "metadata": {},
     "output_type": "execute_result"
    }
   ],
   "source": [
    "df.head()"
   ]
  },
  {
   "cell_type": "code",
   "execution_count": 6,
   "metadata": {
    "collapsed": false
   },
   "outputs": [
    {
     "data": {
      "text/html": [
       "<div>\n",
       "<table border=\"1\" class=\"dataframe\">\n",
       "  <thead>\n",
       "    <tr style=\"text-align: right;\">\n",
       "      <th></th>\n",
       "      <th>Anio</th>\n",
       "      <th>Mes</th>\n",
       "      <th>Anio-Mes</th>\n",
       "      <th>Promedio</th>\n",
       "      <th>k1</th>\n",
       "      <th>k2</th>\n",
       "      <th>La nada</th>\n",
       "    </tr>\n",
       "  </thead>\n",
       "  <tbody>\n",
       "    <tr>\n",
       "      <th>3208</th>\n",
       "      <td>2016</td>\n",
       "      <td>5</td>\n",
       "      <td>2016.373</td>\n",
       "      <td>52.1</td>\n",
       "      <td>4.7</td>\n",
       "      <td>810</td>\n",
       "      <td>*</td>\n",
       "    </tr>\n",
       "    <tr>\n",
       "      <th>3209</th>\n",
       "      <td>2016</td>\n",
       "      <td>6</td>\n",
       "      <td>2016.456</td>\n",
       "      <td>20.9</td>\n",
       "      <td>2.2</td>\n",
       "      <td>886</td>\n",
       "      <td>*</td>\n",
       "    </tr>\n",
       "    <tr>\n",
       "      <th>3210</th>\n",
       "      <td>2016</td>\n",
       "      <td>7</td>\n",
       "      <td>2016.540</td>\n",
       "      <td>32.5</td>\n",
       "      <td>3.7</td>\n",
       "      <td>910</td>\n",
       "      <td>*</td>\n",
       "    </tr>\n",
       "    <tr>\n",
       "      <th>3211</th>\n",
       "      <td>2016</td>\n",
       "      <td>8</td>\n",
       "      <td>2016.624</td>\n",
       "      <td>50.7</td>\n",
       "      <td>4.4</td>\n",
       "      <td>879</td>\n",
       "      <td>*</td>\n",
       "    </tr>\n",
       "    <tr>\n",
       "      <th>3212</th>\n",
       "      <td>2016</td>\n",
       "      <td>9</td>\n",
       "      <td>2016.708</td>\n",
       "      <td>44.7</td>\n",
       "      <td>3.8</td>\n",
       "      <td>742</td>\n",
       "      <td>*</td>\n",
       "    </tr>\n",
       "  </tbody>\n",
       "</table>\n",
       "</div>"
      ],
      "text/plain": [
       "      Anio  Mes  Anio-Mes  Promedio   k1   k2 La nada\n",
       "3208  2016    5  2016.373      52.1  4.7  810       *\n",
       "3209  2016    6  2016.456      20.9  2.2  886       *\n",
       "3210  2016    7  2016.540      32.5  3.7  910       *\n",
       "3211  2016    8  2016.624      50.7  4.4  879       *\n",
       "3212  2016    9  2016.708      44.7  3.8  742       *"
      ]
     },
     "execution_count": 6,
     "metadata": {},
     "output_type": "execute_result"
    }
   ],
   "source": [
    "df.tail()"
   ]
  },
  {
   "cell_type": "code",
   "execution_count": 7,
   "metadata": {
    "collapsed": false
   },
   "outputs": [
    {
     "data": {
      "text/plain": [
       "Anio           0\n",
       "Mes            0\n",
       "Anio-Mes       0\n",
       "Promedio       0\n",
       "k1             0\n",
       "k2             0\n",
       "La nada     3207\n",
       "dtype: int64"
      ]
     },
     "execution_count": 7,
     "metadata": {},
     "output_type": "execute_result"
    }
   ],
   "source": [
    "df.apply(lambda x: sum(x.isnull()),axis=0)"
   ]
  },
  {
   "cell_type": "code",
   "execution_count": 8,
   "metadata": {
    "collapsed": false
   },
   "outputs": [
    {
     "data": {
      "text/plain": [
       "Anio          int64\n",
       "Mes           int64\n",
       "Anio-Mes    float64\n",
       "Promedio    float64\n",
       "k1          float64\n",
       "k2            int64\n",
       "La nada      object\n",
       "dtype: object"
      ]
     },
     "execution_count": 8,
     "metadata": {},
     "output_type": "execute_result"
    }
   ],
   "source": [
    "df.dtypes"
   ]
  },
  {
   "cell_type": "code",
   "execution_count": 9,
   "metadata": {
    "collapsed": true
   },
   "outputs": [],
   "source": [
    "x=df[u'Anio-Mes']\n",
    "y=df[u'Promedio']"
   ]
  },
  {
   "cell_type": "code",
   "execution_count": 10,
   "metadata": {
    "collapsed": false
   },
   "outputs": [
    {
     "data": {
      "image/png": "[encoded data removed]",
      "text/plain": [
       "<matplotlib.figure.Figure at 0x7faa184a7c18>"
      ]
     },
     "metadata": {},
     "output_type": "display_data"
    }
   ],
   "source": [
    "from scipy.fftpack import fft, fftfreq, fftshift\n",
    "# number of signal points\n",
    "N = 3213\n",
    "# sample spacing\n",
    "T = 1\n",
    "yf = fft(y)\n",
    "xf = fftfreq(N, T)\n",
    "xf = fftshift(xf)\n",
    "yplot = fftshift(yf)\n",
    "import matplotlib.pyplot as plt\n",
    "plt.plot(xf, 1.0/N * np.abs(yplot))\n",
    "plt.grid(True)\n",
    "plt.title('Registro de manchas solares')\n",
    "plt.xlabel(\"Año-Mes\")\n",
    "plt.ylabel(\"Promedio de manchas solares\")\n",
    "plt.xlim(0,.05)\n",
    "fig=plt.gcf()\n",
    "fig.set_size_inches(10,10)\n",
    "plt.show()"
   ]
  },
  {
   "cell_type": "code",
   "execution_count": 14,
   "metadata": {
    "collapsed": false
   },
   "outputs": [],
   "source": [
    "a=np.absolute(yf)/N\n"
   ]
  },
  {
   "cell_type": "code",
   "execution_count": 16,
   "metadata": {
    "collapsed": false
   },
   "outputs": [
    {
     "name": "stdout",
     "output_type": "stream",
     "text": [
      "(array([   0,    3,   23,   24,   25,   27, 3186, 3188, 3189, 3190, 3210]),)\n"
     ]
    },
    {
     "data": {
      "text/plain": [
       "array([ 82.92356054,  11.39959181,  11.33907605,  19.9936166 ,\n",
       "        17.709916  ,  15.45401894,  15.45401894,  17.709916  ,\n",
       "        19.9936166 ,  11.33907605,  11.39959181])"
      ]
     },
     "execution_count": 16,
     "metadata": {},
     "output_type": "execute_result"
    }
   ],
   "source": [
    "print(np.where(a[:,]>10))\n",
    "b=a[a[:,]>10]\n",
    "b"
   ]
  },
  {
   "cell_type": "code",
   "execution_count": 22,
   "metadata": {
    "collapsed": false
   },
   "outputs": [
    {
     "name": "stdout",
     "output_type": "stream",
     "text": [
      "(array([   0,    1,    2,    3,    4,    5,   18,   19,   22,   23,   24,\n",
      "         25,   26,   27,   28,   29,   30,   32,   33,   49, 3164, 3180,\n",
      "       3181, 3183, 3184, 3185, 3186, 3187, 3188, 3189, 3190, 3191, 3194,\n",
      "       3195, 3208, 3209, 3210, 3211, 3212]),)\n"
     ]
    },
    {
     "data": {
      "text/plain": [
       "array([ 82.92356054,   6.1202308 ,   5.81322464,  11.39959181,\n",
       "         7.64140607,   6.86795256,   5.12470451,   6.53244749,\n",
       "         6.2536874 ,  11.33907605,  19.9936166 ,  17.709916  ,\n",
       "         6.7814543 ,  15.45401894,   5.3662003 ,   7.06077096,\n",
       "         6.45420329,   5.27672092,   7.31412295,   5.08635154,\n",
       "         5.08635154,   7.31412295,   5.27672092,   6.45420329,\n",
       "         7.06077096,   5.3662003 ,  15.45401894,   6.7814543 ,\n",
       "        17.709916  ,  19.9936166 ,  11.33907605,   6.2536874 ,\n",
       "         6.53244749,   5.12470451,   6.86795256,   7.64140607,\n",
       "        11.39959181,   5.81322464,   6.1202308 ])"
      ]
     },
     "execution_count": 22,
     "metadata": {},
     "output_type": "execute_result"
    }
   ],
   "source": [
    "print(np.where(a[:,]>5))\n",
    "b=a[a[:,]>5]\n",
    "b"
   ]
  },
  {
   "cell_type": "code",
   "execution_count": 17,
   "metadata": {
    "collapsed": false
   },
   "outputs": [
    {
     "data": {
      "text/plain": [
       "(0.00031123560535325243,\n",
       " 0.00062247121070650485,\n",
       " 0.00093370681605975728,\n",
       " 0.0012449424214130097,\n",
       " 0.001556178026766262,\n",
       " 0.0056022408963585435,\n",
       " 0.0059134765017117962,\n",
       " 0.0068471833177715536,\n",
       " 0.0071584189231248055,\n",
       " 0.0074696545284780582,\n",
       " 0.007780890133831311,\n",
       " 0.0080921257391845629,\n",
       " 0.0084033613445378148,\n",
       " 0.0087145969498910684,\n",
       " 0.0090258325552443203,\n",
       " 0.0093370681605975722,\n",
       " 0.0099595393713040777,\n",
       " 0.01027077497665733,\n",
       " 0.015250544662309368)"
      ]
     },
     "execution_count": 17,
     "metadata": {},
     "output_type": "execute_result"
    }
   ],
   "source": [
    "\n",
    "\n",
    "T_S1 =  xf[int(N/2 +1),]\n",
    "T_S2 =  xf[int(N/2 +2),]\n",
    "T_S3 =  xf[int(N/2 +3),]\n",
    "T_S4 =  xf[int(N/2 +4),]\n",
    "T_S5 =  xf[int(N/2 +5),]\n",
    "T_S6 =  xf[int(N/2 +18),]\n",
    "T_S7 =  xf[int(N/2 +19),]\n",
    "T_S8 =  xf[int(N/2 +22),]\n",
    "T_S9 =  xf[int(N/2 +23),]\n",
    "T_S10 =  xf[int(N/2 +24),]\n",
    "T_S11=  xf[int(N/2 +25),]\n",
    "T_S12 =  xf[int(N/2 +26),]\n",
    "T_S13 =  xf[int(N/2 +27),]\n",
    "T_S14 =  xf[int(N/2 +28),]\n",
    "T_S15 =  xf[int(N/2 +29),]\n",
    "T_S16 =  xf[int(N/2 +30),]\n",
    "T_S17 =  xf[int(N/2 +32),]\n",
    "T_S18 =  xf[int(N/2 +33),]\n",
    "T_S19 =  xf[int(N/2 +49),]\n",
    "\n",
    "T_S1,T_S2,T_S3,T_S4,T_S5,T_S6,T_S7,T_S8,T_S9,T_S10,T_S11,T_S12,T_S13,T_S14,T_S15,T_S16,T_S17,T_S18,T_S19\n",
    "\n"
   ]
  },
  {
   "cell_type": "code",
   "execution_count": 18,
   "metadata": {
    "collapsed": false
   },
   "outputs": [
    {
     "data": {
      "text/plain": [
       "(267.75,\n",
       " 133.875,\n",
       " 89.25,\n",
       " 66.9375,\n",
       " 53.550000000000004,\n",
       " 14.875,\n",
       " 14.092105263157896,\n",
       " 12.170454545454545,\n",
       " 11.641304347826086,\n",
       " 11.15625,\n",
       " 10.709999999999999,\n",
       " 10.298076923076923,\n",
       " 9.9166666666666661,\n",
       " 9.5624999999999982,\n",
       " 9.2327586206896548,\n",
       " 8.9250000000000007,\n",
       " 8.3671875,\n",
       " 8.1136363636363633,\n",
       " 5.4642857142857144)"
      ]
     },
     "execution_count": 18,
     "metadata": {},
     "output_type": "execute_result"
    }
   ],
   "source": [
    "T1=1/T_S1\n",
    "\n",
    "T2=1/T_S2\n",
    "\n",
    "T3=1/T_S3\n",
    "\n",
    "T4=1/T_S4\n",
    "\n",
    "T5=1/T_S5\n",
    "\n",
    "T6=1/T_S6\n",
    "\n",
    "T7=1/T_S7\n",
    "\n",
    "T8=1/T_S8\n",
    "\n",
    "T9=1/T_S9\n",
    "\n",
    "T10=1/T_S10\n",
    "\n",
    "T11=1/T_S11\n",
    "\n",
    "T12=1/T_S12\n",
    "\n",
    "T13=1/T_S13\n",
    "\n",
    "T14=1/T_S14\n",
    "\n",
    "T15=1/T_S15\n",
    "\n",
    "T16=1/T_S16\n",
    "\n",
    "T17=1/T_S17\n",
    "\n",
    "T18=1/T_S18\n",
    "\n",
    "T19=1/T_S19\n",
    "\n",
    "\n",
    "T1/12,T2/12,T3/12,T4/12,T5/12,T6/12,T7/12,T8/12,T9/12,T10/12,T11/12,T12/12,T13/12,T14/12,T15/12,T16/12,T17/12,T18/12,T19/12"
   ]
  },
  {
   "cell_type": "code",
   "execution_count": 19,
   "metadata": {
    "collapsed": false
   },
   "outputs": [
    {
     "data": {
      "text/plain": [
       "0.0071584189231248055"
      ]
     },
     "execution_count": 19,
     "metadata": {},
     "output_type": "execute_result"
    }
   ],
   "source": [
    "J=(T_S8+T_S9 +T_S10)/3\n",
    "J"
   ]
  },
  {
   "cell_type": "code",
   "execution_count": 20,
   "metadata": {
    "collapsed": false
   },
   "outputs": [
    {
     "data": {
      "text/plain": [
       "11.641304347826088"
      ]
     },
     "execution_count": 20,
     "metadata": {},
     "output_type": "execute_result"
    }
   ],
   "source": [
    "K=1/(J*12)\n",
    "K"
   ]
  },
  {
   "cell_type": "code",
   "execution_count": null,
   "metadata": {
    "collapsed": true
   },
   "outputs": [],
   "source": []
  },
  {
   "cell_type": "code",
   "execution_count": null,
   "metadata": {
    "collapsed": true
   },
   "outputs": [],
   "source": []
  }
 ],
 "metadata": {
  "anaconda-cloud": {},
  "kernelspec": {
   "display_name": "Python [default]",
   "language": "python",
   "name": "python3"
  },
  "language_info": {
   "codemirror_mode": {
    "name": "ipython",
    "version": 3
   },
   "file_extension": ".py",
   "mimetype": "text/x-python",
   "name": "python",
   "nbconvert_exporter": "python",
   "pygments_lexer": "ipython3",
   "version": "3.5.2"
  }
 },
 "nbformat": 4,
 "nbformat_minor": 1
}
